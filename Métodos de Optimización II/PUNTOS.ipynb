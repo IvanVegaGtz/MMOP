{
 "cells": [
  {
   "cell_type": "code",
   "execution_count": 100,
   "id": "daa0b690",
   "metadata": {},
   "outputs": [
    {
     "name": "stdout",
     "output_type": "stream",
     "text": [
      "iter: 10 funcion objetivo = 103096.34693111936\n",
      "iter: 17 funcion objetivo = 98821.84797113037\n",
      "iter: 93 funcion objetivo = 98162.03144875806\n",
      "iter: 172 funcion objetivo = 92384.53634444649\n"
     ]
    },
    {
     "data": {
      "image/png": "[encoded data removed]",
      "text/plain": [
       "<Figure size 432x288 with 1 Axes>"
      ]
     },
     "metadata": {
      "needs_background": "light"
     },
     "output_type": "display_data"
    },
    {
     "name": "stdout",
     "output_type": "stream",
     "text": [
      "92384.53634444649\n"
     ]
    }
   ],
   "source": [
    "import pandas as pd\n",
    "import random\n",
    "import numpy as np\n",
    "import matplotlib.pyplot as plt\n",
    "\n",
    "#Leer el archivo con los datos\n",
    "datos = pd.read_csv(\"/Users/ivanvegagutierrez/Desktop/CIMAT/SEGUNDO/METOPT2/puntos.csv\")\n",
    "#Crear matriz de distancias\n",
    "Dist = np.zeros((240, 240))\n",
    "for i in range(240):\n",
    "    for j in range(i+1, 240):\n",
    "        Dist[i][j] = ((datos['x'][i]-datos['x'][j])**2 + (datos['y'][i]-datos['y'][j])**2)**0.5\n",
    "        Dist[j][i] = Dist[i][j]\n",
    "\n",
    "# Definimos la funcion objetivo\n",
    "# x es un vector solucion\n",
    "def fobj(x,dij):\n",
    "    D = x*dij\n",
    "    z = D.sum()\n",
    "    return z\n",
    "\n",
    "#Construir solucion aleatoria\n",
    "def solRandom():\n",
    "    # Asignamos centros de manera aleatoria\n",
    "    #options = np.arange(0, 240)\n",
    "    #centros = np.random.choice(options, 10, replace = False)\n",
    "    centros = random.sample(range(240),10)\n",
    "    # inicializamos nuestra solucion\n",
    "    x = np.zeros((240, 240))\n",
    "    # creamos el conjunto de puntos (los que no son centros)\n",
    "    puntos = []\n",
    "    for i in range(240):\n",
    "        if i not in centros:\n",
    "            puntos.append(i)\n",
    "    puntos = np.array(puntos)\n",
    "    # Creamos una diccionario que va a contener los puntos agrupados\n",
    "    y = {}\n",
    "    for i in range(10):\n",
    "        y['centro'+ str(i)] = [centros[i]]\n",
    "    # Cada centro es asignado a si mismo \n",
    "    for i in centros:\n",
    "        x[i, i] = 1\n",
    "    # Asignamos los puntos a los centros\n",
    "    cont = 0\n",
    "    puntos = set(puntos)\n",
    "    for i in centros:\n",
    "        asignados = []\n",
    "        for j in puntos:\n",
    "            x[i][j] = random.randint(0,1)\n",
    "            if x[i][j] == 1:\n",
    "                asignados.append(j)\n",
    "                y['centro' + str(cont)].append(j)\n",
    "        puntos = puntos -set(asignados)\n",
    "        cont += 1\n",
    "                \n",
    "    '''\n",
    "    for p in puntos:\n",
    "        # A cada punto le asignamos un centro\n",
    "        asig = distmin(p, centros, Dist)\n",
    "        fila = centros[asig]\n",
    "        x[fila][p] = 1\n",
    "        # Agregamos el punto al centro en el vector de agrupamiento\n",
    "        y['centro' + str(asig)].append(p)\n",
    "    '''\n",
    "    return x, y\n",
    "\n",
    "# Busqueda aleatoria simple\n",
    "def BAS(dij, N):\n",
    "    iter = 0\n",
    "    x = solRandom()[0]\n",
    "    y = solRandom()[1]\n",
    "    while iter < N:\n",
    "        iter += 1\n",
    "        xhat = solRandom()[0]\n",
    "        if fobj(xhat, dij) < fobj(x, dij):\n",
    "            #plt.pause(1)\n",
    "            #plt.arrow(x[0], x[1], xhat[0]-x[0], xhat[1]-x[1], head_width=0.25)\n",
    "            x = xhat\n",
    "            print(\"iter: {} funcion objetivo = {}\".format(iter, fobj(x,dij)))\n",
    "    #plt.show()\n",
    "    return x, fobj(x, dij), y\n",
    "\n",
    "#Resultados\n",
    "res = BAS(Dist, 1000)\n",
    "fun = res[1]\n",
    "dic = res[2]\n",
    "# Graficar\n",
    "# Vector de colores\n",
    "colores = ['r', 'b', 'g', 'k', 'grey', 'c', 'm', 'y', 'brown', 'pink' ]\n",
    "def graficar():\n",
    "    color = 0\n",
    "    etiquetas = []\n",
    "    for clave in dic:\n",
    "        etiquetas.append(clave)\n",
    "    #Graficamos\n",
    "    for clave in dic:\n",
    "        for j in range(len(dic[clave])):\n",
    "            punto = dic[clave][j]\n",
    "            #plt.pause(.001)\n",
    "            plt.scatter(datos['x'][punto], datos['y'][punto], c = colores[color])\n",
    "            if j==0:\n",
    "                plt.annotate(etiquetas[color], (datos['x'][punto],  datos['y'][punto]))\n",
    "        color += 1\n",
    "graficar()\n",
    "plt.show()\n",
    "print(fun)"
   ]
  },
  {
   "cell_type": "code",
   "execution_count": 84,
   "id": "f4923609",
   "metadata": {},
   "outputs": [
    {
     "data": {
      "text/plain": [
       "1"
      ]
     },
     "execution_count": 84,
     "metadata": {},
     "output_type": "execute_result"
    }
   ],
   "source": [
    "random.randint(0,1)"
   ]
  },
  {
   "cell_type": "code",
   "execution_count": 6,
   "id": "49014d0b",
   "metadata": {},
   "outputs": [
    {
     "name": "stdout",
     "output_type": "stream",
     "text": [
      "503.491807281906\n"
     ]
    }
   ],
   "source": [
    "print(Dist[99, 116])"
   ]
  }
 ],
 "metadata": {
  "kernelspec": {
   "display_name": "Python 3",
   "language": "python",
   "name": "python3"
  },
  "language_info": {
   "codemirror_mode": {
    "name": "ipython",
    "version": 3
   },
   "file_extension": ".py",
   "mimetype": "text/x-python",
   "name": "python",
   "nbconvert_exporter": "python",
   "pygments_lexer": "ipython3",
   "version": "3.8.8"
  }
 },
 "nbformat": 4,
 "nbformat_minor": 5
}
