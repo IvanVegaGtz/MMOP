{
 "cells": [
  {
   "cell_type": "markdown",
   "id": "9975e78b",
   "metadata": {},
   "source": [
    "# Modelación Numérica en Ingenieria I \n"
   ]
  },
  {
   "cell_type": "markdown",
   "id": "44d2bc11",
   "metadata": {},
   "source": [
    "Ejercicio 1. Considera el sistema de ecuaciones lineales.\n",
    "\\begin{equation*}\n",
    "    \\begin{pmatrix}\n",
    "    3 & -2 &  1 \\\\\n",
    "    1 &  1 & -2 \\\\\n",
    "    3 &  5 & -1\n",
    "    \\end{pmatrix}\n",
    "    \\begin{pmatrix}\n",
    "    x \\\\\n",
    "    y \\\\\n",
    "    z\n",
    "    \\end{pmatrix}\n",
    "    =\n",
    "    \\begin{pmatrix}\n",
    "    1 \\\\\n",
    "    2 \\\\\n",
    "    5\n",
    "    \\end{pmatrix}\n",
    "\\end{equation*}\n",
    "\n",
    "esto es Ax=b"
   ]
  },
  {
   "cell_type": "markdown",
   "id": "71828d22",
   "metadata": {},
   "source": [
    "Usando los comandos del lenguaje de programación de su preferencia obtenga:\n",
    "1. La traza de la matriz A.\n",
    "2. El determinante de la matriz A.\n",
    "3. Los valores y vectores propios de A.\n",
    "4. El kernel y nulidad de A.\n",
    "5. El rango de A. Verfificar que rango(A) + nulidad(A) = n. \n",
    "6. Resolver (si es posible) el sistema Ax = b usando la inversa de la matriz A."
   ]
  },
  {
   "cell_type": "markdown",
   "id": "1d557911",
   "metadata": {},
   "source": [
    "Solución. Primero importamos la librería Numpy y Scipy para poder trabajar con matrices y utilizar los distintos métodos que necesitaremos."
   ]
  },
  {
   "cell_type": "code",
   "execution_count": 1,
   "id": "992b4c41",
   "metadata": {},
   "outputs": [],
   "source": [
    "import numpy as np\n",
    "from scipy.linalg import null_space\n",
    "A = np.array([[3, -2, 1], [1, 1, -2], [3, 5, -1]]) \n",
    "b = np.array([1, 2, 5]) "
   ]
  },
  {
   "cell_type": "markdown",
   "id": "ca420ec1",
   "metadata": {},
   "source": [
    "1. La traza de la matriz A"
   ]
  },
  {
   "cell_type": "code",
   "execution_count": 2,
   "id": "951146f3",
   "metadata": {},
   "outputs": [
    {
     "name": "stdout",
     "output_type": "stream",
     "text": [
      "La traza de la matriz A es 3\n"
     ]
    }
   ],
   "source": [
    "Traza_A = A.trace()\n",
    "print(\"La traza de la matriz A es {}\".format(Traza_A))"
   ]
  },
  {
   "cell_type": "markdown",
   "id": "e5536687",
   "metadata": {},
   "source": [
    "2. El determinante de la matriz A"
   ]
  },
  {
   "cell_type": "code",
   "execution_count": 3,
   "id": "50fa0edb",
   "metadata": {},
   "outputs": [
    {
     "name": "stdout",
     "output_type": "stream",
     "text": [
      "El determinante de la matriz A es 38.99999999999999\n"
     ]
    }
   ],
   "source": [
    "Determinante_A = np.linalg.det(A)\n",
    "print(\"El determinante de la matriz A es {}\".format(Determinante_A))"
   ]
  },
  {
   "cell_type": "markdown",
   "id": "fce6121b",
   "metadata": {},
   "source": [
    "3. Los valores y vectores propios de A"
   ]
  },
  {
   "cell_type": "code",
   "execution_count": 4,
   "id": "bfa8d12e",
   "metadata": {},
   "outputs": [
    {
     "name": "stdout",
     "output_type": "stream",
     "text": [
      "Los valores propios de la matriz A son \n",
      "[ 3.6931754+0.j         -0.3465877+3.23108268j -0.3465877-3.23108268j] \n",
      "Los vectores propios de la matriz A son \n",
      "[[ 0.86480376+0.j          0.19889163-0.09211908j  0.19889163+0.09211908j]\n",
      " [-0.04991915+0.j         -0.22666322-0.47545995j -0.22666322+0.47545995j]\n",
      " [ 0.49962239+0.j         -0.82129034+0.j         -0.82129034-0.j        ]]\n"
     ]
    }
   ],
   "source": [
    "valores_propios, vectores_propios = np.linalg.eig(A)\n",
    "print(\"Los valores propios de la matriz A son \\n{} \".format(valores_propios))\n",
    "print(\"Los vectores propios de la matriz A son \\n{}\".format(vectores_propios))"
   ]
  },
  {
   "cell_type": "markdown",
   "id": "8a808e67",
   "metadata": {},
   "source": [
    "4. El kernel y nulidad de A"
   ]
  },
  {
   "cell_type": "code",
   "execution_count": 5,
   "id": "fa4c2875",
   "metadata": {},
   "outputs": [
    {
     "name": "stdout",
     "output_type": "stream",
     "text": [
      "El Kernel de A es \n",
      " [] \n",
      " y la nulidad es 0\n"
     ]
    }
   ],
   "source": [
    "Kernel_A = null_space(A) \n",
    "Nulidad_A = len(Kernel_A[0])\n",
    "print(\"El Kernel de A es \\n {} \\n y la nulidad es {}\".format(Kernel_A, Nulidad_A))"
   ]
  },
  {
   "cell_type": "markdown",
   "id": "209c4d15",
   "metadata": {},
   "source": [
    "5. El rango de A. Verificar que rango(A) + nulidad(A) = n"
   ]
  },
  {
   "cell_type": "code",
   "execution_count": 6,
   "id": "dd72fa86",
   "metadata": {},
   "outputs": [
    {
     "name": "stdout",
     "output_type": "stream",
     "text": [
      "El rango de la matriz A  es 3\n",
      "Tenemos que rango(A) + nulidad(A) = 3\n"
     ]
    }
   ],
   "source": [
    "Rango_A = np.linalg.matrix_rank(A)\n",
    "print(\"El rango de la matriz A  es {}\".format(Rango_A))\n",
    "print(\"Tenemos que rango(A) + nulidad(A) = {}\".format(Rango_A + Nulidad_A))"
   ]
  },
  {
   "cell_type": "markdown",
   "id": "3ffaafc2",
   "metadata": {},
   "source": [
    "6. Resolver (si es posible) el sistema Ax = b usando la inversa de la matriz."
   ]
  },
  {
   "cell_type": "code",
   "execution_count": 7,
   "id": "e932a075",
   "metadata": {},
   "outputs": [
    {
     "name": "stdout",
     "output_type": "stream",
     "text": [
      "La solución del sistema dado es \n",
      " [ 0.76923077  0.46153846 -0.38461538]\n"
     ]
    }
   ],
   "source": [
    "sol = np.linalg.solve(A,b)\n",
    "print(\"La solución del sistema dado es \\n {}\".format(sol))"
   ]
  },
  {
   "cell_type": "markdown",
   "id": "1cdbc09a",
   "metadata": {},
   "source": [
    "Ejercicio 2 Repetir el Ejercicio 1 con el sistema de ecuaciones lineales\n",
    "\\begin{equation*}\n",
    "    \\begin{pmatrix}\n",
    "    1 &  2 & -5 \\\\\n",
    "    2 &  4 & -10 \\\\\n",
    "    2 &  2 &  5\n",
    "    \\end{pmatrix}\n",
    "    \\begin{pmatrix}\n",
    "    x \\\\\n",
    "    y \\\\\n",
    "    z\n",
    "    \\end{pmatrix}\n",
    "    =\n",
    "    \\begin{pmatrix}\n",
    "    10 \\\\\n",
    "    5 \\\\\n",
    "    20\n",
    "    \\end{pmatrix}\n",
    "\\end{equation*}"
   ]
  },
  {
   "cell_type": "markdown",
   "id": "a2e82e1d",
   "metadata": {},
   "source": [
    "Para resolver el ejercicio 2, tenemos lo siguiente."
   ]
  },
  {
   "cell_type": "code",
   "execution_count": 8,
   "id": "fd013bf3",
   "metadata": {},
   "outputs": [],
   "source": [
    "A = np.array([[1, 2, -5], [2, 4, -10], [2, 2, 5]])\n",
    "b = np.array([10, 5, 20])"
   ]
  },
  {
   "cell_type": "markdown",
   "id": "88078895",
   "metadata": {},
   "source": [
    "1. La traza de la matriz A."
   ]
  },
  {
   "cell_type": "code",
   "execution_count": 9,
   "id": "20f531f6",
   "metadata": {},
   "outputs": [
    {
     "name": "stdout",
     "output_type": "stream",
     "text": [
      "La traza de la matriz A es 10\n"
     ]
    }
   ],
   "source": [
    "Traza_A = A.trace()\n",
    "print(\"La traza de la matriz A es {}\".format(Traza_A))"
   ]
  },
  {
   "cell_type": "markdown",
   "id": "a7c7790f",
   "metadata": {},
   "source": [
    "2. El determinante de la matriz A."
   ]
  },
  {
   "cell_type": "code",
   "execution_count": 10,
   "id": "75897f40",
   "metadata": {},
   "outputs": [
    {
     "name": "stdout",
     "output_type": "stream",
     "text": [
      "El determinante de la matriz A es 0.0\n"
     ]
    }
   ],
   "source": [
    "Determinante_A = np.linalg.det(A)\n",
    "print(\"El determinante de la matriz A es {}\".format(Determinante_A))"
   ]
  },
  {
   "cell_type": "markdown",
   "id": "30bec25a",
   "metadata": {},
   "source": [
    "3. Los valores y vectores propios de A."
   ]
  },
  {
   "cell_type": "code",
   "execution_count": 11,
   "id": "12b79aa4",
   "metadata": {},
   "outputs": [
    {
     "name": "stdout",
     "output_type": "stream",
     "text": [
      "Los valores propios de la matriz A son \n",
      "[-2.23568936e-16+0.j          5.00000000e+00+5.47722558j\n",
      "  5.00000000e+00-5.47722558j] \n",
      "Los vectores propios de la matriz A son \n",
      "[[-7.97452223e-01+0.00000000e+00j  4.01609664e-01-6.71103486e-17j\n",
      "   4.01609664e-01+6.71103486e-17j]\n",
      " [ 5.98089167e-01+0.00000000e+00j  8.03219329e-01+0.00000000e+00j\n",
      "   8.03219329e-01-0.00000000e+00j]\n",
      " [ 7.97452223e-02+0.00000000e+00j -3.92357903e-16-4.39941345e-01j\n",
      "  -3.92357903e-16+4.39941345e-01j]]\n"
     ]
    }
   ],
   "source": [
    "valores_propios, vectores_propios = np.linalg.eig(A)\n",
    "print(\"Los valores propios de la matriz A son \\n{} \".format(valores_propios))\n",
    "print(\"Los vectores propios de la matriz A son \\n{}\".format(vectores_propios))"
   ]
  },
  {
   "cell_type": "markdown",
   "id": "a10853d9",
   "metadata": {},
   "source": [
    "4. El kernel y nulidad de A."
   ]
  },
  {
   "cell_type": "code",
   "execution_count": 12,
   "id": "f0096c6d",
   "metadata": {},
   "outputs": [
    {
     "name": "stdout",
     "output_type": "stream",
     "text": [
      "El Kernel de A es \n",
      " [[-0.79745222]\n",
      " [ 0.59808917]\n",
      " [ 0.07974522]] \n",
      " y la nulidad es 1\n"
     ]
    }
   ],
   "source": [
    "Kernel_A = null_space(A) \n",
    "Nulidad_A = len(Kernel_A[0])\n",
    "print(\"El Kernel de A es \\n {} \\n y la nulidad es {}\".format(Kernel_A, Nulidad_A))"
   ]
  },
  {
   "cell_type": "markdown",
   "id": "60c09681",
   "metadata": {},
   "source": [
    "5. El rango de A. Verificar que rango(A) + nulidad(A) = n"
   ]
  },
  {
   "cell_type": "code",
   "execution_count": 13,
   "id": "8f1748f4",
   "metadata": {},
   "outputs": [
    {
     "name": "stdout",
     "output_type": "stream",
     "text": [
      "El rango de la matriz A  es 2\n",
      "Tenemos que rango(A) + nulidad(A) = 3\n"
     ]
    }
   ],
   "source": [
    "Rango_A = np.linalg.matrix_rank(A)\n",
    "print(\"El rango de la matriz A  es {}\".format(Rango_A))\n",
    "print(\"Tenemos que rango(A) + nulidad(A) = {}\".format(Rango_A + Nulidad_A))"
   ]
  },
  {
   "cell_type": "markdown",
   "id": "f7bd9016",
   "metadata": {},
   "source": [
    "6. Resolver (si es posible) el sistema Ax = b usando la inversa de la matriz."
   ]
  },
  {
   "cell_type": "code",
   "execution_count": 14,
   "id": "adbf5d5d",
   "metadata": {},
   "outputs": [
    {
     "ename": "LinAlgError",
     "evalue": "Singular matrix",
     "output_type": "error",
     "traceback": [
      "\u001b[0;31m---------------------------------------------------------------------------\u001b[0m",
      "\u001b[0;31mLinAlgError\u001b[0m                               Traceback (most recent call last)",
      "\u001b[0;32m<ipython-input-14-5a38e7050bfe>\u001b[0m in \u001b[0;36m<module>\u001b[0;34m\u001b[0m\n\u001b[0;32m----> 1\u001b[0;31m \u001b[0msol\u001b[0m \u001b[0;34m=\u001b[0m \u001b[0mnp\u001b[0m\u001b[0;34m.\u001b[0m\u001b[0mlinalg\u001b[0m\u001b[0;34m.\u001b[0m\u001b[0msolve\u001b[0m\u001b[0;34m(\u001b[0m\u001b[0mA\u001b[0m\u001b[0;34m,\u001b[0m\u001b[0mb\u001b[0m\u001b[0;34m)\u001b[0m\u001b[0;34m\u001b[0m\u001b[0;34m\u001b[0m\u001b[0m\n\u001b[0m\u001b[1;32m      2\u001b[0m \u001b[0mprint\u001b[0m\u001b[0;34m(\u001b[0m\u001b[0;34m\"La solución del sistema dado es \\n {}\"\u001b[0m\u001b[0;34m.\u001b[0m\u001b[0mformat\u001b[0m\u001b[0;34m(\u001b[0m\u001b[0msol\u001b[0m\u001b[0;34m)\u001b[0m\u001b[0;34m)\u001b[0m\u001b[0;34m\u001b[0m\u001b[0;34m\u001b[0m\u001b[0m\n",
      "\u001b[0;32m<__array_function__ internals>\u001b[0m in \u001b[0;36msolve\u001b[0;34m(*args, **kwargs)\u001b[0m\n",
      "\u001b[0;32m~/opt/anaconda3/lib/python3.8/site-packages/numpy/linalg/linalg.py\u001b[0m in \u001b[0;36msolve\u001b[0;34m(a, b)\u001b[0m\n\u001b[1;32m    391\u001b[0m     \u001b[0msignature\u001b[0m \u001b[0;34m=\u001b[0m \u001b[0;34m'DD->D'\u001b[0m \u001b[0;32mif\u001b[0m \u001b[0misComplexType\u001b[0m\u001b[0;34m(\u001b[0m\u001b[0mt\u001b[0m\u001b[0;34m)\u001b[0m \u001b[0;32melse\u001b[0m \u001b[0;34m'dd->d'\u001b[0m\u001b[0;34m\u001b[0m\u001b[0;34m\u001b[0m\u001b[0m\n\u001b[1;32m    392\u001b[0m     \u001b[0mextobj\u001b[0m \u001b[0;34m=\u001b[0m \u001b[0mget_linalg_error_extobj\u001b[0m\u001b[0;34m(\u001b[0m\u001b[0m_raise_linalgerror_singular\u001b[0m\u001b[0;34m)\u001b[0m\u001b[0;34m\u001b[0m\u001b[0;34m\u001b[0m\u001b[0m\n\u001b[0;32m--> 393\u001b[0;31m     \u001b[0mr\u001b[0m \u001b[0;34m=\u001b[0m \u001b[0mgufunc\u001b[0m\u001b[0;34m(\u001b[0m\u001b[0ma\u001b[0m\u001b[0;34m,\u001b[0m \u001b[0mb\u001b[0m\u001b[0;34m,\u001b[0m \u001b[0msignature\u001b[0m\u001b[0;34m=\u001b[0m\u001b[0msignature\u001b[0m\u001b[0;34m,\u001b[0m \u001b[0mextobj\u001b[0m\u001b[0;34m=\u001b[0m\u001b[0mextobj\u001b[0m\u001b[0;34m)\u001b[0m\u001b[0;34m\u001b[0m\u001b[0;34m\u001b[0m\u001b[0m\n\u001b[0m\u001b[1;32m    394\u001b[0m \u001b[0;34m\u001b[0m\u001b[0m\n\u001b[1;32m    395\u001b[0m     \u001b[0;32mreturn\u001b[0m \u001b[0mwrap\u001b[0m\u001b[0;34m(\u001b[0m\u001b[0mr\u001b[0m\u001b[0;34m.\u001b[0m\u001b[0mastype\u001b[0m\u001b[0;34m(\u001b[0m\u001b[0mresult_t\u001b[0m\u001b[0;34m,\u001b[0m \u001b[0mcopy\u001b[0m\u001b[0;34m=\u001b[0m\u001b[0;32mFalse\u001b[0m\u001b[0;34m)\u001b[0m\u001b[0;34m)\u001b[0m\u001b[0;34m\u001b[0m\u001b[0;34m\u001b[0m\u001b[0m\n",
      "\u001b[0;32m~/opt/anaconda3/lib/python3.8/site-packages/numpy/linalg/linalg.py\u001b[0m in \u001b[0;36m_raise_linalgerror_singular\u001b[0;34m(err, flag)\u001b[0m\n\u001b[1;32m     86\u001b[0m \u001b[0;34m\u001b[0m\u001b[0m\n\u001b[1;32m     87\u001b[0m \u001b[0;32mdef\u001b[0m \u001b[0m_raise_linalgerror_singular\u001b[0m\u001b[0;34m(\u001b[0m\u001b[0merr\u001b[0m\u001b[0;34m,\u001b[0m \u001b[0mflag\u001b[0m\u001b[0;34m)\u001b[0m\u001b[0;34m:\u001b[0m\u001b[0;34m\u001b[0m\u001b[0;34m\u001b[0m\u001b[0m\n\u001b[0;32m---> 88\u001b[0;31m     \u001b[0;32mraise\u001b[0m \u001b[0mLinAlgError\u001b[0m\u001b[0;34m(\u001b[0m\u001b[0;34m\"Singular matrix\"\u001b[0m\u001b[0;34m)\u001b[0m\u001b[0;34m\u001b[0m\u001b[0;34m\u001b[0m\u001b[0m\n\u001b[0m\u001b[1;32m     89\u001b[0m \u001b[0;34m\u001b[0m\u001b[0m\n\u001b[1;32m     90\u001b[0m \u001b[0;32mdef\u001b[0m \u001b[0m_raise_linalgerror_nonposdef\u001b[0m\u001b[0;34m(\u001b[0m\u001b[0merr\u001b[0m\u001b[0;34m,\u001b[0m \u001b[0mflag\u001b[0m\u001b[0;34m)\u001b[0m\u001b[0;34m:\u001b[0m\u001b[0;34m\u001b[0m\u001b[0;34m\u001b[0m\u001b[0m\n",
      "\u001b[0;31mLinAlgError\u001b[0m: Singular matrix"
     ]
    }
   ],
   "source": [
    "sol = np.linalg.solve(A,b)\n",
    "print(\"La solución del sistema dado es \\n {}\".format(sol))"
   ]
  },
  {
   "cell_type": "markdown",
   "id": "3db17800",
   "metadata": {},
   "source": [
    "Al intentar resolver el sistema nos arroja un error, el cual nos dice que se trata de una matriz singular, por tanto no es posible hallar una solución, lo cual nos podemos percatar desde el momento en que el determinante es cero."
   ]
  },
  {
   "cell_type": "markdown",
   "id": "af66bff5",
   "metadata": {},
   "source": [
    "Ejercicio 3 Explicar en que consiste el sistema de aritmética de punto flotante IEEE"
   ]
  },
  {
   "cell_type": "markdown",
   "id": "6b5123cd",
   "metadata": {},
   "source": [
    "Ejercicio 4 Realiza el ejercicio 5.1 p ́ag. 92 de libro Numerical Linear Alge- bra. G. Allaire, S. M. Kaber."
   ]
  }
 ],
 "metadata": {
  "kernelspec": {
   "display_name": "Python 3",
   "language": "python",
   "name": "python3"
  },
  "language_info": {
   "codemirror_mode": {
    "name": "ipython",
    "version": 3
   },
   "file_extension": ".py",
   "mimetype": "text/x-python",
   "name": "python",
   "nbconvert_exporter": "python",
   "pygments_lexer": "ipython3",
   "version": "3.8.8"
  }
 },
 "nbformat": 4,
 "nbformat_minor": 5
}
