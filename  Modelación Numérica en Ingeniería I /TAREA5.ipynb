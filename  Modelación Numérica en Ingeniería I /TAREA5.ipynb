{
 "cells": [
  {
   "cell_type": "markdown",
   "id": "756da8f2",
   "metadata": {},
   "source": [
    "# Ejercicio 6.7"
   ]
  },
  {
   "cell_type": "markdown",
   "id": "e21321be",
   "metadata": {},
   "source": [
    "A continuación se muestra el código de la función Laplaciand2Dd(n) que regresa una matriz de orden $n^2$ "
   ]
  },
  {
   "cell_type": "markdown",
   "id": "9cd526db",
   "metadata": {},
   "source": [
    "## Solución 3 a)"
   ]
  },
  {
   "cell_type": "code",
   "execution_count": 1,
   "id": "0d275995",
   "metadata": {},
   "outputs": [],
   "source": [
    "import numpy as np\n",
    "\n",
    "def Laplacian2dD(n):\n",
    "    \"\"\"\n",
    "    Esta función calcula la matriz laplaciana de dos dimensiones.\n",
    "    \n",
    "    Argumentos:\n",
    "    n (entero positivo): número de puntos internos de la malla\n",
    "    \n",
    "    Salida:\n",
    "    A(matriz cuadra): Matriz de rala (n^2)x(n^2)\n",
    "    \"\"\"\n",
    "    #Rellenamos la matriz con cuatros en la diagonal y lo demás con ceros\n",
    "    A = 4*(np.identity(n*n))\n",
    "    for i in range(n*n):\n",
    "        for j in range(n*n):\n",
    "            #Generamos los menos unos de la matriz B \n",
    "            if (j==i-1 and (j+1)%n != 0) or (j==i+1 and j%n != 0):\n",
    "                A[i][j] = -1\n",
    "            #Generamos los menos unos restantes de la formula de 5 puntos\n",
    "            elif (j == i + n  or j == i - n):\n",
    "                A[i][j] = -1\n",
    "    #Por último dividimos entre h^2 donde h=1/n+1\n",
    "    A = np.dot(A,(n+1)**2)\n",
    "    return A"
   ]
  },
  {
   "cell_type": "markdown",
   "id": "02647e54",
   "metadata": {},
   "source": [
    "La siguiente función regresa la función f evaluada enlos puntos donde ueremos hallar las aproximaciones"
   ]
  },
  {
   "cell_type": "markdown",
   "id": "0e5ed968",
   "metadata": {},
   "source": [
    "## Solución 3 b) "
   ]
  },
  {
   "cell_type": "code",
   "execution_count": 2,
   "id": "e741899b",
   "metadata": {},
   "outputs": [],
   "source": [
    "def funcion(x,y):\n",
    "    #Regresa la función que queramos evaluar en el punto (x,y):\n",
    "    return x + y"
   ]
  },
  {
   "cell_type": "markdown",
   "id": "664adaf8",
   "metadata": {},
   "source": [
    "A continuación se muestrá el código de la función Laplacian2dDRHS(n,f)"
   ]
  },
  {
   "cell_type": "code",
   "execution_count": 4,
   "id": "fe5d5dc8",
   "metadata": {},
   "outputs": [],
   "source": [
    "import numpy as np\n",
    "\n",
    "def funcion(x,y):\n",
    "    #Regresa la función que queramos evaluar en el punto (x,y):\n",
    "    return x + y\n",
    "\n",
    "def Laplacian2dDRHS(n,f=funcion):\n",
    "    \"\"\"\n",
    "    Esta función regresa la función en los puntos x,y \n",
    "    de la partición para resolver la ecuación de Laplace\n",
    "    \"\"\"\n",
    "    #Generamos los puntos de la partición para x e y \n",
    "    x, y, z =[], [], []\n",
    "    for j in range(1, n+1):\n",
    "        x.append(j/(n+1))\n",
    "        y.append(j/(n+1))\n",
    "    #Evaluamos la función en los puntos x[i] y y[j]\n",
    "    for i in range(n):\n",
    "        for j in range(n):\n",
    "            z.append(f(x[i],y[j]))\n",
    "    return z"
   ]
  },
  {
   "cell_type": "markdown",
   "id": "c02cd3b7",
   "metadata": {},
   "source": [
    "# Ejercicio 6.8"
   ]
  },
  {
   "cell_type": "markdown",
   "id": "54361dc9",
   "metadata": {},
   "source": [
    "Sea A la matriz definida por A = Laplacian2dD (5), y A = LU su factorización LU dada por LUFacto. Utilice la función spy para mostrar las matrices L y U."
   ]
  },
  {
   "cell_type": "markdown",
   "id": "af101fcf",
   "metadata": {},
   "source": [
    "## Solución "
   ]
  },
  {
   "cell_type": "markdown",
   "id": "0bd5b325",
   "metadata": {},
   "source": [
    "El código de la factorización LU es el siguiente."
   ]
  },
  {
   "cell_type": "code",
   "execution_count": 5,
   "id": "d8b1b65b",
   "metadata": {},
   "outputs": [],
   "source": [
    "import numpy as np\n",
    "def LUfacto(A):\n",
    "    \"\"\"\n",
    "    Esta funcion devuelve las matrices L, U,, las cuales\n",
    "    son la facotrizacion de A (A = LU). Donde L es una \n",
    "    matriz triangular inferior y U es triangular superior.\n",
    "    \n",
    "    Argumentos:\n",
    "    A(matriz): Matriz que se desea factorizar\n",
    "\n",
    "    Excepciones:\n",
    "    Division entre cero si U[j][j] =0 \n",
    "    \"\"\"\n",
    "    # Hallamaos la dimension de la matriz\n",
    "    n = A.shape[0]\n",
    "    #Creamos la matriz U compuesta por ceros\n",
    "    U = np.zeros((n,n))\n",
    "    #La matriz L tendra unos en su diagonal\n",
    "    L = np.identity(n)\n",
    "    #La primera fila de U será igual a la primera fila de A\n",
    "    U[0] = A[0]\n",
    "    #Verificamos que no intentemos una división entre cero\n",
    "    if A[0][0] == 0:\n",
    "        print(\"Error de ejecución: División entre cero\")\n",
    "        return \n",
    "    else:\n",
    "        #Hallamos la primera columna de L\n",
    "        L[:,0] = A[:,0]/A[0][0]\n",
    "        #Este ciclo recorrerá las filas i\n",
    "        for i in range(1,n):\n",
    "            #El siguiente ciclo recorrerá las columasn j\n",
    "            for j in range(1,n):\n",
    "                #Si la siguiente condición se cumple entonces llenaremos la matriz L\n",
    "                if i>j:\n",
    "                    suma = 0\n",
    "                    for k in range(j):\n",
    "                        suma += L[i][k]*U[k][j]  \n",
    "                    if U[j][j] == 0:\n",
    "                        print(\"Error de ejecución: Divisi{on entre cero\")\n",
    "                        return \n",
    "                    else:\n",
    "                        L[i][j] = (A[i][j] - suma)/U[j][j]\n",
    "                #Si i >= j entonces se llenará la matriz U\n",
    "                else:\n",
    "                    suma = 0\n",
    "                    for k in range(i):\n",
    "                        suma += L[i][k]*U[k][j]\n",
    "                    U[i][j] = A[i][j] - suma\n",
    "    return (L,U)\n",
    "\n",
    "A = Laplacian2dD(5)\n",
    "L,U = LUfacto(A)"
   ]
  },
  {
   "cell_type": "markdown",
   "id": "21e051b2",
   "metadata": {},
   "source": [
    "Utilicemos la función spy para visualizar la factorización."
   ]
  },
  {
   "cell_type": "code",
   "execution_count": 7,
   "id": "30af21d0",
   "metadata": {},
   "outputs": [
    {
     "data": {
      "image/png": "[encoded data removed]",
      "text/plain": [
       "<Figure size 432x288 with 3 Axes>"
      ]
     },
     "metadata": {
      "needs_background": "light"
     },
     "output_type": "display_data"
    }
   ],
   "source": [
    "import matplotlib.pyplot as plt\n",
    "\n",
    "#HALLAMOS LAS MATRICES A, L Y U.\n",
    "A = Laplacian2dD(5)\n",
    "L,U = LUfacto(A)\n",
    "\n",
    "#MATRIZ A\n",
    "plt.subplot(1,3,1)\n",
    "plt.spy(A) \n",
    "plt.title('Matriz A')\n",
    "#MATRIZ L\n",
    "plt.subplot(1,3,2)\n",
    "plt.spy(L) \n",
    "plt.title('Matriz L')\n",
    "#MATRIZ U\n",
    "plt.subplot(1,3,3)\n",
    "plt.spy(U) \n",
    "plt.title('Matriz U')\n",
    "\n",
    "plt.show()"
   ]
  },
  {
   "cell_type": "code",
   "execution_count": null,
   "id": "a96c2295",
   "metadata": {},
   "outputs": [],
   "source": [
    "\n",
    "\n"
   ]
  }
 ],
 "metadata": {
  "kernelspec": {
   "display_name": "Python 3",
   "language": "python",
   "name": "python3"
  },
  "language_info": {
   "codemirror_mode": {
    "name": "ipython",
    "version": 3
   },
   "file_extension": ".py",
   "mimetype": "text/x-python",
   "name": "python",
   "nbconvert_exporter": "python",
   "pygments_lexer": "ipython3",
   "version": "3.8.8"
  }
 },
 "nbformat": 4,
 "nbformat_minor": 5
}
